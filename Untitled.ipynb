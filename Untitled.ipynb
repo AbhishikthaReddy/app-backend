{
 "cells": [
  {
   "cell_type": "code",
   "execution_count": 3,
   "metadata": {
    "collapsed": false
   },
   "outputs": [],
   "source": [
    "import re\n",
    "import pkgutil\n",
    "import inspect\n",
    "import importlib.util\n",
    "\n",
    "def iter_modules(name, package=None, exclude=None, key=None, root_only=True):\n",
    "    \"\"\"Iterate over nested submodules\n",
    "\n",
    "    Parameters\n",
    "    ----------\n",
    "    name : str\n",
    "        The package where submodules will be yielded from.\n",
    "        Relative names are allowed - the relative package is\n",
    "        infered from the calling frame.\n",
    "    package : str (default: None)\n",
    "        The package in which ``name`` resides. By default the\n",
    "        package of a relative import is infered, otherwise ``name``\n",
    "        is assumed to be an absolute import.\n",
    "    exclude : iterable, None\n",
    "        A list of regex strings that exclude modules if\n",
    "        their names match the given patterns. Use these\n",
    "        exclusion patterns to prevent imports.\n",
    "    key : callable (default: None)\n",
    "        A callable that accepts a module as input and returns\n",
    "        True or False to filter modules. The modules that\n",
    "        result in False are not yielded. No filtering by default.\n",
    "    root_only : bool (default: True)\n",
    "        By default, all submodules of one that is yielded are\n",
    "        ignored. If ``root_only`` is False, then all submodules\n",
    "        are yielded.\n",
    "    \"\"\"\n",
    "    if name.startswith('.'):\n",
    "        f = inspect_frame(1)\n",
    "        while f.f_globals['__name__'] == __name__:\n",
    "            f = f.f_back\n",
    "        package = f.f_globals['__package__']\n",
    "    else:\n",
    "        package = None\n",
    "    spec = importlib.util.find_spec(name, package)\n",
    "    if spec is None:\n",
    "        raise ImportError(\"Could not find module spec for '%s'\" % package)\n",
    "    exclude = list(exclude or ())\n",
    "    search_paths = spec.submodule_search_locations\n",
    "    for finder, name, ispkg in pkgutil.walk_packages(search_paths):\n",
    "        print(name)\n",
    "        for e in exclude:\n",
    "            if re.match(e, name):\n",
    "                break\n",
    "        else:\n",
    "            module = load_module(finder, name)\n",
    "            if not key or key(module):\n",
    "                if root_only:\n",
    "                    # don't search submodules\n",
    "                    exclude.insert(0, r\"%s.*\" % name)\n",
    "                yield module\n",
    "\n",
    "\n",
    "def load_module(finder, name):\n",
    "    \"\"\"Load a module given its name and finder\"\"\"\n",
    "    return finder.find_module(name).load_module(name)\n",
    "\n",
    "def inspect_frame(i=0, last=None):\n",
    "    \"\"\"Get a frame relative to the calling frame, or a reference frame\n",
    "\n",
    "    Parameters\n",
    "    ----------\n",
    "    i : int\n",
    "        Return the i'th frame from the reference frame\n",
    "    ref: frame (default: None)\n",
    "        The reference frame, if ``ref`` is None then\n",
    "        the calling frame is used instead.\n",
    "    \"\"\"\n",
    "    if last:\n",
    "        # use a reference frame\n",
    "        f = last\n",
    "    else:\n",
    "        # use the calling frame\n",
    "        f = inspect.currentframe().f_back\n",
    "    # shift back i frames\n",
    "    while i > 0:\n",
    "        f = f.f_back\n",
    "        i -= 1\n",
    "    return f"
   ]
  },
  {
   "cell_type": "code",
   "execution_count": 4,
   "metadata": {
    "collapsed": false
   },
   "outputs": [
    {
     "name": "stdout",
     "output_type": "stream",
     "text": [
      "extensions\n"
     ]
    },
    {
     "name": "stderr",
     "output_type": "stream",
     "text": [
      "//anaconda/lib/python3.5/site-packages/flask_marshmallow/__init__.py:32: UserWarning: Flask-SQLAlchemy integration requires marshmallow-sqlalchemy to be installed.\n",
      "  'Flask-SQLAlchemy integration requires '\n"
     ]
    },
    {
     "name": "stdout",
     "output_type": "stream",
     "text": [
      "<module 'extensions' from '/Users/RyanMorshead/GitHub/three_blades/back_blade/app/extensions/__init__.py'>\n",
      "modules\n",
      "<module 'modules' from '/Users/RyanMorshead/GitHub/three_blades/back_blade/app/modules/__init__.py'>\n",
      "modules.api\n",
      "<module 'modules.api' from '/Users/RyanMorshead/GitHub/three_blades/back_blade/app/modules/api/__init__.py'>\n",
      "modules.api.v0\n",
      "<module 'modules.api.v0' from '/Users/RyanMorshead/GitHub/three_blades/back_blade/app/modules/api/v0/__init__.py'>\n",
      "modules.api.v0.admin\n",
      "<module 'modules.api.v0.admin' from '/Users/RyanMorshead/GitHub/three_blades/back_blade/app/modules/api/v0/admin/__init__.py'>\n",
      "modules.api.v0.admin.models\n",
      "<module 'modules.api.v0.admin.models' from '/Users/RyanMorshead/GitHub/three_blades/back_blade/app/modules/api/v0/admin/models.py'>\n",
      "modules.api.v0.admin.resources\n",
      "<module 'modules.api.v0.admin.resources' from '/Users/RyanMorshead/GitHub/three_blades/back_blade/app/modules/api/v0/admin/resources.py'>\n",
      "modules.api.v0.schemas\n",
      "<module 'modules.api.v0.schemas' from '/Users/RyanMorshead/GitHub/three_blades/back_blade/app/modules/api/v0/schemas/__init__.py'>\n",
      "modules.api.v0.users\n",
      "<module 'modules.api.v0.users' from '/Users/RyanMorshead/GitHub/three_blades/back_blade/app/modules/api/v0/users/__init__.py'>\n",
      "modules.api.v0.users.models\n",
      "<module 'modules.api.v0.users.models' from '/Users/RyanMorshead/GitHub/three_blades/back_blade/app/modules/api/v0/users/models.py'>\n",
      "settings\n",
      "<module 'settings' from '/Users/RyanMorshead/GitHub/three_blades/back_blade/app/settings/__init__.py'>\n",
      "settings.default\n",
      "<module 'settings.default' from '/Users/RyanMorshead/GitHub/three_blades/back_blade/app/settings/default.py'>\n",
      "settings.development\n",
      "<module 'settings.development' from '/Users/RyanMorshead/GitHub/three_blades/back_blade/app/settings/development.py'>\n",
      "utils\n",
      "<module 'utils' from '/Users/RyanMorshead/GitHub/three_blades/back_blade/app/utils/__init__.py'>\n",
      "utils.exceptions\n",
      "<module 'utils.exceptions' from '/Users/RyanMorshead/GitHub/three_blades/back_blade/app/utils/exceptions.py'>\n",
      "utils.loading\n",
      "<module 'utils.loading' from '/Users/RyanMorshead/GitHub/three_blades/back_blade/app/utils/loading.py'>\n",
      "utils.sessions\n",
      "<module 'utils.sessions' from '/Users/RyanMorshead/GitHub/three_blades/back_blade/app/utils/sessions.py'>\n",
      "version\n",
      "<module 'version' from '/Users/RyanMorshead/GitHub/three_blades/back_blade/app/version.py'>\n"
     ]
    }
   ],
   "source": [
    "for m in iter_modules(\"app\", root_only=False):\n",
    "    print(m)"
   ]
  },
  {
   "cell_type": "code",
   "execution_count": 6,
   "metadata": {
    "collapsed": false
   },
   "outputs": [
    {
     "ename": "SystemExit",
     "evalue": "1",
     "output_type": "error",
     "traceback": [
      "\u001b[0;31m---------------------------------------------------------------------------\u001b[0m",
      "\u001b[0;31mSystemExit\u001b[0m                                Traceback (most recent call last)",
      "\u001b[0;32m<ipython-input-5-84bc6f3f7b3e>\u001b[0m in \u001b[0;36m<module>\u001b[0;34m()\u001b[0m\n\u001b[0;32m----> 1\u001b[0;31m \u001b[0mapp\u001b[0m\u001b[0;34m.\u001b[0m\u001b[0ma\u001b[0m\u001b[0;34m.\u001b[0m\u001b[0mrun\u001b[0m\u001b[0;34m(\u001b[0m\u001b[0;34m'localhost'\u001b[0m\u001b[0;34m,\u001b[0m \u001b[0;36m8880\u001b[0m\u001b[0;34m,\u001b[0m \u001b[0mdebug\u001b[0m\u001b[0;34m=\u001b[0m\u001b[0;32mTrue\u001b[0m\u001b[0;34m)\u001b[0m\u001b[0;34m\u001b[0m\u001b[0m\n\u001b[0m",
      "\u001b[0;32m//anaconda/lib/python3.5/site-packages/flask/app.py\u001b[0m in \u001b[0;36mrun\u001b[0;34m(self, host, port, debug, **options)\u001b[0m\n\u001b[1;32m    770\u001b[0m         \u001b[0moptions\u001b[0m\u001b[0;34m.\u001b[0m\u001b[0msetdefault\u001b[0m\u001b[0;34m(\u001b[0m\u001b[0;34m'use_debugger'\u001b[0m\u001b[0;34m,\u001b[0m \u001b[0mself\u001b[0m\u001b[0;34m.\u001b[0m\u001b[0mdebug\u001b[0m\u001b[0;34m)\u001b[0m\u001b[0;34m\u001b[0m\u001b[0m\n\u001b[1;32m    771\u001b[0m         \u001b[0;32mtry\u001b[0m\u001b[0;34m:\u001b[0m\u001b[0;34m\u001b[0m\u001b[0m\n\u001b[0;32m--> 772\u001b[0;31m             \u001b[0mrun_simple\u001b[0m\u001b[0;34m(\u001b[0m\u001b[0mhost\u001b[0m\u001b[0;34m,\u001b[0m \u001b[0mport\u001b[0m\u001b[0;34m,\u001b[0m \u001b[0mself\u001b[0m\u001b[0;34m,\u001b[0m \u001b[0;34m**\u001b[0m\u001b[0moptions\u001b[0m\u001b[0;34m)\u001b[0m\u001b[0;34m\u001b[0m\u001b[0m\n\u001b[0m\u001b[1;32m    773\u001b[0m         \u001b[0;32mfinally\u001b[0m\u001b[0;34m:\u001b[0m\u001b[0;34m\u001b[0m\u001b[0m\n\u001b[1;32m    774\u001b[0m             \u001b[0;31m# reset the first request information if the development server\u001b[0m\u001b[0;34m\u001b[0m\u001b[0;34m\u001b[0m\u001b[0m\n",
      "\u001b[0;32m//anaconda/lib/python3.5/site-packages/werkzeug/serving.py\u001b[0m in \u001b[0;36mrun_simple\u001b[0;34m(hostname, port, application, use_reloader, use_debugger, use_evalex, extra_files, reloader_interval, reloader_type, threaded, processes, request_handler, static_files, passthrough_errors, ssl_context)\u001b[0m\n\u001b[1;32m    690\u001b[0m         \u001b[0;32mfrom\u001b[0m \u001b[0;34m.\u001b[0m\u001b[0m_reloader\u001b[0m \u001b[0;32mimport\u001b[0m \u001b[0mrun_with_reloader\u001b[0m\u001b[0;34m\u001b[0m\u001b[0m\n\u001b[1;32m    691\u001b[0m         run_with_reloader(inner, extra_files, reloader_interval,\n\u001b[0;32m--> 692\u001b[0;31m                           reloader_type)\n\u001b[0m\u001b[1;32m    693\u001b[0m     \u001b[0;32melse\u001b[0m\u001b[0;34m:\u001b[0m\u001b[0;34m\u001b[0m\u001b[0m\n\u001b[1;32m    694\u001b[0m         \u001b[0minner\u001b[0m\u001b[0;34m(\u001b[0m\u001b[0;34m)\u001b[0m\u001b[0;34m\u001b[0m\u001b[0m\n",
      "\u001b[0;32m//anaconda/lib/python3.5/site-packages/werkzeug/_reloader.py\u001b[0m in \u001b[0;36mrun_with_reloader\u001b[0;34m(main_func, extra_files, interval, reloader_type)\u001b[0m\n\u001b[1;32m    248\u001b[0m             \u001b[0mreloader\u001b[0m\u001b[0;34m.\u001b[0m\u001b[0mrun\u001b[0m\u001b[0;34m(\u001b[0m\u001b[0;34m)\u001b[0m\u001b[0;34m\u001b[0m\u001b[0m\n\u001b[1;32m    249\u001b[0m         \u001b[0;32melse\u001b[0m\u001b[0;34m:\u001b[0m\u001b[0;34m\u001b[0m\u001b[0m\n\u001b[0;32m--> 250\u001b[0;31m             \u001b[0msys\u001b[0m\u001b[0;34m.\u001b[0m\u001b[0mexit\u001b[0m\u001b[0;34m(\u001b[0m\u001b[0mreloader\u001b[0m\u001b[0;34m.\u001b[0m\u001b[0mrestart_with_reloader\u001b[0m\u001b[0;34m(\u001b[0m\u001b[0;34m)\u001b[0m\u001b[0;34m)\u001b[0m\u001b[0;34m\u001b[0m\u001b[0m\n\u001b[0m\u001b[1;32m    251\u001b[0m     \u001b[0;32mexcept\u001b[0m \u001b[0mKeyboardInterrupt\u001b[0m\u001b[0;34m:\u001b[0m\u001b[0;34m\u001b[0m\u001b[0m\n\u001b[1;32m    252\u001b[0m         \u001b[0;32mpass\u001b[0m\u001b[0;34m\u001b[0m\u001b[0m\n",
      "\u001b[0;31mSystemExit\u001b[0m: 1"
     ]
    }
   ],
   "source": [
    "%tb"
   ]
  },
  {
   "cell_type": "code",
   "execution_count": null,
   "metadata": {
    "collapsed": true
   },
   "outputs": [],
   "source": []
  }
 ],
 "metadata": {
  "anaconda-cloud": {},
  "kernelspec": {
   "display_name": "Python 2",
   "language": "python",
   "name": "python2"
  }
 },
 "nbformat": 4,
 "nbformat_minor": 1
}
